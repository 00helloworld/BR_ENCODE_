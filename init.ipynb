{
 "cells": [
  {
   "cell_type": "code",
   "execution_count": 1,
   "metadata": {},
   "outputs": [
    {
     "name": "stderr",
     "output_type": "stream",
     "text": [
      "/var/folders/hk/p7fcnhm10z92trzs_9kwqlyr0000gn/T/ipykernel_30484/881960093.py:1: DeprecationWarning: \n",
      "Pyarrow will become a required dependency of pandas in the next major release of pandas (pandas 3.0),\n",
      "(to allow more performant data types, such as the Arrow string type, and better interoperability with other libraries)\n",
      "but was not found to be installed on your system.\n",
      "If this would cause problems for you,\n",
      "please provide us feedback at https://github.com/pandas-dev/pandas/issues/54466\n",
      "        \n",
      "  import pandas as pd\n"
     ]
    }
   ],
   "source": [
    "import pandas as pd\n",
    "\n",
    "#显示所有列\n",
    "pd.set_option('display.max_columns', None)\n",
    "#显示所有行\n",
    "pd.set_option('display.max_rows', None)"
   ]
  },
  {
   "cell_type": "code",
   "execution_count": 2,
   "metadata": {},
   "outputs": [],
   "source": [
    "data = pd.read_csv('births_train.csv')"
   ]
  },
  {
   "cell_type": "code",
   "execution_count": 3,
   "metadata": {},
   "outputs": [
    {
     "name": "stderr",
     "output_type": "stream",
     "text": [
      "Setting default log level to \"WARN\".\n",
      "To adjust logging level use sc.setLogLevel(newLevel). For SparkR, use setLogLevel(newLevel).\n",
      "24/02/23 00:07:57 WARN NativeCodeLoader: Unable to load native-hadoop library for your platform... using builtin-java classes where applicable\n",
      "24/02/23 00:07:58 WARN Utils: Service 'SparkUI' could not bind on port 4040. Attempting port 4041.\n"
     ]
    }
   ],
   "source": [
    "from pyspark import SparkContext\n",
    "sc = SparkContext()\n",
    "from pyspark.sql import SparkSession\n",
    "# 初始化spark会话\n",
    "spark = SparkSession.builder.appName('birthrate').getOrCreate()"
   ]
  },
  {
   "cell_type": "code",
   "execution_count": 4,
   "metadata": {},
   "outputs": [],
   "source": [
    "# pandas转spark\n",
    "values = data.values.tolist()\n",
    "columns = data.columns.tolist()\n",
    "spark_df = spark.createDataFrame(values, columns)"
   ]
  },
  {
   "cell_type": "code",
   "execution_count": 5,
   "metadata": {},
   "outputs": [
    {
     "name": "stderr",
     "output_type": "stream",
     "text": [
      "24/02/23 00:08:26 WARN SparkStringUtils: Truncated the string representation of a plan since it was too large. This behavior can be adjusted by setting 'spark.sql.debug.maxToStringFields'.\n",
      "                                                                                \r"
     ]
    },
    {
     "name": "stdout",
     "output_type": "stream",
     "text": [
      "+----------------------+----------+-----------+-----------+----------------+-----------------+----------------+-------------------+----------------+--------------------+----------+---------+---------+---------+----------------+-----------------+-----------------+----------------------+------------------+------------+-------------+------------+-------------+------------------+-------+----------------------+---------+----------+--------+-----------+----------+------------------------+---------------+-------+--------------+--------+---------------+----------+-------------------------+-------------------+-------------------+------------------------+---------------------+----------------+------------------+---------------+-----------------------+----------------+-----------------------+---------------------+--------------------+-------------------------------------+--------------------------------------+----------------+\n",
      "|INFANT_ALIVE_AT_REPORT|BIRTH_YEAR|BIRTH_MONTH|BIRTH_PLACE|MOTHER_AGE_YEARS|MOTHER_RACE_6CODE|MOTHER_EDUCATION|FATHER_COMBINED_AGE|FATHER_EDUCATION|MONTH_PRECARE_RECODE|CIG_BEFORE|CIG_1_TRI|CIG_2_TRI|CIG_3_TRI|MOTHER_HEIGHT_IN|MOTHER_BMI_RECODE|MOTHER_PRE_WEIGHT|MOTHER_DELIVERY_WEIGHT|MOTHER_WEIGHT_GAIN|DIABETES_PRE|DIABETES_GEST|HYP_TENS_PRE|HYP_TENS_GEST|PREV_BIRTH_PRETERM|NO_RISK|NO_INFECTIONS_REPORTED|LABOR_IND|LABOR_AUGM|STEROIDS|ANTIBIOTICS|ANESTHESIA|DELIV_METHOD_RECODE_COMB|ATTENDANT_BIRTH|APGAR_5|APGAR_5_RECODE|APGAR_10|APGAR_10_RECODE|INFANT_SEX|OBSTETRIC_GESTATION_WEEKS|INFANT_WEIGHT_GRAMS|INFANT_ASSIST_VENTI|INFANT_ASSIST_VENTI_6HRS|INFANT_NICU_ADMISSION|INFANT_SURFACANT|INFANT_ANTIBIOTICS|INFANT_SEIZURES|INFANT_NO_ABNORMALITIES|INFANT_ANCEPHALY|INFANT_MENINGOMYELOCELE|INFANT_LIMB_REDUCTION|INFANT_DOWN_SYNDROME|INFANT_SUSPECTED_CHROMOSOMAL_DISORDER|INFANT_NO_CONGENITAL_ANOMALIES_CHECKED|INFANT_BREASTFED|\n",
      "+----------------------+----------+-----------+-----------+----------------+-----------------+----------------+-------------------+----------------+--------------------+----------+---------+---------+---------+----------------+-----------------+-----------------+----------------------+------------------+------------+-------------+------------+-------------+------------------+-------+----------------------+---------+----------+--------+-----------+----------+------------------------+---------------+-------+--------------+--------+---------------+----------+-------------------------+-------------------+-------------------+------------------------+---------------------+----------------+------------------+---------------+-----------------------+----------------+-----------------------+---------------------+--------------------+-------------------------------------+--------------------------------------+----------------+\n",
      "|                     N|      2015|          2|          1|              29|                3|               9|                 99|               9|                   4|        99|       99|       99|       99|              99|                9|              999|                   999|                99|           N|            N|           N|            N|                 N|      1|                     1|        N|         N|       N|          Y|         N|                       2|              1|      4|             2|       3|              1|         F|                       35|               2770|                  N|                       N|                    Y|               N|                 N|              N|                      0|               N|                      N|                    N|                   N|                                    N|                                     0|               N|\n",
      "|                     N|      2015|          2|          1|              22|                1|               3|                 29|               4|                   1|         0|        0|        0|        0|              65|                4|              180|                   198|                18|           N|            N|           N|            N|                 N|      1|                     1|        N|         N|       N|          N|         N|                       2|              1|      5|             2|       7|              3|         F|                       35|               1191|                  N|                       N|                    Y|               N|                 N|              N|                      0|               N|                      N|                    N|                   N|                                    C|                                     0|               N|\n",
      "|                     N|      2015|          2|          1|              38|                1|               4|                 40|               3|                   1|         0|        0|        0|        0|              63|                3|              155|                   167|                12|           N|            N|           N|            N|                 N|      1|                     1|        N|         N|       N|          Y|         N|                       1|              1|      1|             1|       1|              1|         F|                       18|               9999|                  U|                       U|                    U|               U|                 U|              U|                      9|               N|                      N|                    N|                   N|                                    N|                                     1|               N|\n",
      "|                     N|      2015|          4|          1|              39|                2|               7|                 42|               6|                   1|         0|        0|        0|        0|              60|                3|              128|                   152|                24|           N|            N|           N|            N|                 Y|      0|                     1|        N|         N|       N|          Y|         Y|                       1|              1|      8|             3|      88|              5|         F|                       37|               1925|                  N|                       N|                    N|               N|                 N|              Y|                      0|               Y|                      N|                    N|                   N|                                    N|                                     0|               N|\n",
      "|                     N|      2015|          4|          1|              18|                3|               2|                 99|               9|                   2|         6|        4|        2|        2|              61|                2|              110|                   130|                20|           N|            N|           N|            N|                 N|      1|                     1|        N|         N|       N|          N|         N|                       1|              1|      3|             1|       3|              1|         M|                       32|                670|                  U|                       U|                    U|               U|                 U|              U|                      9|               N|                      N|                    N|                   N|                                    N|                                     1|               N|\n",
      "|                     N|      2015|          4|          1|              32|                1|               4|                 37|               4|                   1|         0|        0|        0|        0|              66|                2|              150|                   162|                12|           N|            N|           N|            N|                 N|      0|                     1|        N|         N|       N|          Y|         Y|                       1|              1|      1|             1|      99|              5|         F|                       21|                434|                  N|                       N|                    N|               N|                 N|              N|                      1|               N|                      N|                    N|                   N|                                    N|                                     1|               N|\n",
      "|                     N|      2015|          5|          1|              22|                3|               3|                 25|               2|                   3|         0|        0|        0|        0|              68|                2|              155|                   191|                36|           N|            N|           N|            N|                 N|      0|                     1|        N|         N|       N|          N|         N|                       2|              1|      8|             3|      88|              5|         M|                       35|               3810|                  Y|                       N|                    Y|               N|                 N|              N|                      0|               N|                      N|                    N|                   N|                                    N|                                     0|               N|\n",
      "|                     N|      2015|          6|          1|              25|                1|               5|                 26|               6|                   1|         0|        0|        0|        0|              64|                2|              136|                   169|                33|           N|            N|           N|            N|                 N|      1|                     1|        N|         Y|       N|          Y|         Y|                       1|              1|      0|             1|       0|              1|         F|                       40|               3731|                  Y|                       N|                    N|               N|                 N|              N|                      0|               N|                      N|                    N|                   N|                                    N|                                     1|               N|\n",
      "|                     N|      2015|          6|          1|              26|                1|               7|                 32|               6|                   1|         0|        0|        0|        0|              64|                2|              140|                   147|                 7|           N|            N|           N|            N|                 N|      1|                     1|        N|         N|       Y|          Y|         Y|                       2|              1|      3|             1|       6|              2|         F|                       31|               1510|                  Y|                       Y|                    Y|               Y|                 Y|              N|                      0|               N|                      N|                    N|                   N|                                    N|                                     1|               N|\n",
      "|                     N|      2015|          6|          1|              39|                4|               4|                 66|               4|                   1|         0|        0|        0|        0|              65|                2|              140|                   150|                10|           N|            N|           N|            N|                 N|      1|                     1|        N|         N|       N|          N|         N|                       1|              1|      2|             1|       1|              1|         M|                       19|                323|                  N|                       N|                    N|               N|                 N|              N|                      1|               N|                      N|                    N|                   N|                                    N|                                     1|               N|\n",
      "+----------------------+----------+-----------+-----------+----------------+-----------------+----------------+-------------------+----------------+--------------------+----------+---------+---------+---------+----------------+-----------------+-----------------+----------------------+------------------+------------+-------------+------------+-------------+------------------+-------+----------------------+---------+----------+--------+-----------+----------+------------------------+---------------+-------+--------------+--------+---------------+----------+-------------------------+-------------------+-------------------+------------------------+---------------------+----------------+------------------+---------------+-----------------------+----------------+-----------------------+---------------------+--------------------+-------------------------------------+--------------------------------------+----------------+\n",
      "only showing top 10 rows\n",
      "\n"
     ]
    }
   ],
   "source": [
    "spark_df.show(10)"
   ]
  },
  {
   "cell_type": "markdown",
   "metadata": {},
   "source": [
    "# 保存hdfs，切记改路径"
   ]
  },
  {
   "cell_type": "code",
   "execution_count": null,
   "metadata": {},
   "outputs": [],
   "source": [
    "save_path = \"/Users/dongyanshen/Desktop/DYSProjects/TBProject/BirthRate_24F19/BirthRate_24F19/births_train.csv\"\n",
    "\n",
    "\n",
    "spark_df \\\n",
    "        .repartition(2) \\\n",
    "        .write.mode('overwrite').format(\"csv\") \\\n",
    "        .option(\"encoding\",\"utf-8\").option(\"header\",True) \\\n",
    "        .save(save_path)"
   ]
  }
 ],
 "metadata": {
  "kernelspec": {
   "display_name": "TBProject",
   "language": "python",
   "name": "python3"
  },
  "language_info": {
   "codemirror_mode": {
    "name": "ipython",
    "version": 3
   },
   "file_extension": ".py",
   "mimetype": "text/x-python",
   "name": "python",
   "nbconvert_exporter": "python",
   "pygments_lexer": "ipython3",
   "version": "3.11.7"
  }
 },
 "nbformat": 4,
 "nbformat_minor": 2
}
