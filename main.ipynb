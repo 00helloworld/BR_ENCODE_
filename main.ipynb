{
 "cells": [
  {
   "cell_type": "code",
   "execution_count": 1,
   "metadata": {},
   "outputs": [
    {
     "name": "stderr",
     "output_type": "stream",
     "text": [
      "24/02/22 21:38:19 WARN Utils: Your hostname, dongyanshens-MacBook-Pro.local resolves to a loopback address: 127.0.0.1; using 192.168.100.116 instead (on interface en0)\n",
      "24/02/22 21:38:19 WARN Utils: Set SPARK_LOCAL_IP if you need to bind to another address\n",
      "Setting default log level to \"WARN\".\n",
      "To adjust logging level use sc.setLogLevel(newLevel). For SparkR, use setLogLevel(newLevel).\n",
      "24/02/22 21:38:19 WARN NativeCodeLoader: Unable to load native-hadoop library for your platform... using builtin-java classes where applicable\n"
     ]
    }
   ],
   "source": [
    "from pyspark import SparkContext\n",
    "sc = SparkContext()\n",
    "from pyspark.sql import SparkSession\n",
    "# 初始化spark会话\n",
    "spark = SparkSession.builder.appName('birthrate').getOrCreate()"
   ]
  },
  {
   "cell_type": "code",
   "execution_count": 2,
   "metadata": {},
   "outputs": [],
   "source": [
    "births = spark.read.format(\"csv\") \\\n",
    "        .load('/Users/dongyanshen/Desktop/DYSProjects/TBProject/BirthRate_24F19/BirthRate_24F19/births_train.csv', \n",
    "              header=True, inferSchema=True, encoding=\"utf-8\", sep=',')"
   ]
  },
  {
   "cell_type": "code",
   "execution_count": 3,
   "metadata": {},
   "outputs": [],
   "source": [
    "# 创建转换器、评估器\n",
    "import pyspark.ml.feature as ft\n",
    "import pyspark.sql.types as typ"
   ]
  },
  {
   "cell_type": "code",
   "execution_count": 4,
   "metadata": {},
   "outputs": [],
   "source": [
    "number_cols = []\n",
    "string_cols = []\n",
    "for col in births.dtypes:\n",
    "    \n",
    "    if col[1] == 'string':\n",
    "        string_cols.append(col[0])\n",
    "    else:\n",
    "        number_cols.append(col[0])\n"
   ]
  },
  {
   "cell_type": "code",
   "execution_count": 5,
   "metadata": {},
   "outputs": [
    {
     "name": "stdout",
     "output_type": "stream",
     "text": [
      "number_cols =  ['BIRTH_YEAR', 'BIRTH_MONTH', 'BIRTH_PLACE', 'MOTHER_AGE_YEARS', 'MOTHER_RACE_6CODE', 'MOTHER_EDUCATION', 'FATHER_COMBINED_AGE', 'FATHER_EDUCATION', 'MONTH_PRECARE_RECODE', 'CIG_BEFORE', 'CIG_1_TRI', 'CIG_2_TRI', 'CIG_3_TRI', 'MOTHER_HEIGHT_IN', 'MOTHER_BMI_RECODE', 'MOTHER_PRE_WEIGHT', 'MOTHER_DELIVERY_WEIGHT', 'MOTHER_WEIGHT_GAIN', 'NO_RISK', 'NO_INFECTIONS_REPORTED', 'DELIV_METHOD_RECODE_COMB', 'ATTENDANT_BIRTH', 'APGAR_5', 'APGAR_5_RECODE', 'APGAR_10', 'APGAR_10_RECODE', 'OBSTETRIC_GESTATION_WEEKS', 'INFANT_WEIGHT_GRAMS', 'INFANT_NO_ABNORMALITIES', 'INFANT_NO_CONGENITAL_ANOMALIES_CHECKED']\n",
      "string_cols =  ['INFANT_ALIVE_AT_REPORT', 'DIABETES_PRE', 'DIABETES_GEST', 'HYP_TENS_PRE', 'HYP_TENS_GEST', 'PREV_BIRTH_PRETERM', 'LABOR_IND', 'LABOR_AUGM', 'STEROIDS', 'ANTIBIOTICS', 'ANESTHESIA', 'INFANT_SEX', 'INFANT_ASSIST_VENTI', 'INFANT_ASSIST_VENTI_6HRS', 'INFANT_NICU_ADMISSION', 'INFANT_SURFACANT', 'INFANT_ANTIBIOTICS', 'INFANT_SEIZURES', 'INFANT_ANCEPHALY', 'INFANT_MENINGOMYELOCELE', 'INFANT_LIMB_REDUCTION', 'INFANT_DOWN_SYNDROME', 'INFANT_SUSPECTED_CHROMOSOMAL_DISORDER', 'INFANT_BREASTFED']\n"
     ]
    }
   ],
   "source": [
    "print('number_cols = ', number_cols)\n",
    "print('string_cols = ', string_cols)"
   ]
  },
  {
   "cell_type": "code",
   "execution_count": 56,
   "metadata": {},
   "outputs": [
    {
     "data": {
      "text/plain": [
       "(30, 24)"
      ]
     },
     "execution_count": 56,
     "metadata": {},
     "output_type": "execute_result"
    }
   ],
   "source": [
    "len(number_cols), len(string_cols)"
   ]
  },
  {
   "cell_type": "code",
   "execution_count": 6,
   "metadata": {},
   "outputs": [],
   "source": [
    "births_typed = births"
   ]
  },
  {
   "cell_type": "code",
   "execution_count": 7,
   "metadata": {},
   "outputs": [
    {
     "name": "stderr",
     "output_type": "stream",
     "text": [
      "24/02/22 21:38:48 WARN SparkStringUtils: Truncated the string representation of a plan since it was too large. This behavior can be adjusted by setting 'spark.sql.debug.maxToStringFields'.\n"
     ]
    }
   ],
   "source": [
    "INT_cols = [f'{col}_INT' for col in string_cols]\n",
    "stringIndexer = ft.StringIndexer(inputCols=string_cols,outputCols=INT_cols)\n",
    "model = stringIndexer.fit(births_typed)\n",
    "births_typed = model.transform(births_typed)"
   ]
  },
  {
   "cell_type": "code",
   "execution_count": 8,
   "metadata": {},
   "outputs": [
    {
     "name": "stdout",
     "output_type": "stream",
     "text": [
      "+----------------------+----------+-----------+-----------+----------------+-----------------+----------------+-------------------+----------------+--------------------+----------+---------+---------+---------+----------------+-----------------+-----------------+----------------------+------------------+------------+-------------+------------+-------------+------------------+-------+----------------------+---------+----------+--------+-----------+----------+------------------------+---------------+-------+--------------+--------+---------------+----------+-------------------------+-------------------+-------------------+------------------------+---------------------+----------------+------------------+---------------+-----------------------+----------------+-----------------------+---------------------+--------------------+-------------------------------------+--------------------------------------+----------------+--------------------------+----------------+-----------------+----------------+-----------------+----------------------+-------------+--------------+------------+---------------+--------------+--------------+-----------------------+----------------------------+-------------------------+--------------------+----------------------+-------------------+--------------------+---------------------------+-------------------------+------------------------+-----------------------------------------+--------------------+\n",
      "|INFANT_ALIVE_AT_REPORT|BIRTH_YEAR|BIRTH_MONTH|BIRTH_PLACE|MOTHER_AGE_YEARS|MOTHER_RACE_6CODE|MOTHER_EDUCATION|FATHER_COMBINED_AGE|FATHER_EDUCATION|MONTH_PRECARE_RECODE|CIG_BEFORE|CIG_1_TRI|CIG_2_TRI|CIG_3_TRI|MOTHER_HEIGHT_IN|MOTHER_BMI_RECODE|MOTHER_PRE_WEIGHT|MOTHER_DELIVERY_WEIGHT|MOTHER_WEIGHT_GAIN|DIABETES_PRE|DIABETES_GEST|HYP_TENS_PRE|HYP_TENS_GEST|PREV_BIRTH_PRETERM|NO_RISK|NO_INFECTIONS_REPORTED|LABOR_IND|LABOR_AUGM|STEROIDS|ANTIBIOTICS|ANESTHESIA|DELIV_METHOD_RECODE_COMB|ATTENDANT_BIRTH|APGAR_5|APGAR_5_RECODE|APGAR_10|APGAR_10_RECODE|INFANT_SEX|OBSTETRIC_GESTATION_WEEKS|INFANT_WEIGHT_GRAMS|INFANT_ASSIST_VENTI|INFANT_ASSIST_VENTI_6HRS|INFANT_NICU_ADMISSION|INFANT_SURFACANT|INFANT_ANTIBIOTICS|INFANT_SEIZURES|INFANT_NO_ABNORMALITIES|INFANT_ANCEPHALY|INFANT_MENINGOMYELOCELE|INFANT_LIMB_REDUCTION|INFANT_DOWN_SYNDROME|INFANT_SUSPECTED_CHROMOSOMAL_DISORDER|INFANT_NO_CONGENITAL_ANOMALIES_CHECKED|INFANT_BREASTFED|INFANT_ALIVE_AT_REPORT_INT|DIABETES_PRE_INT|DIABETES_GEST_INT|HYP_TENS_PRE_INT|HYP_TENS_GEST_INT|PREV_BIRTH_PRETERM_INT|LABOR_IND_INT|LABOR_AUGM_INT|STEROIDS_INT|ANTIBIOTICS_INT|ANESTHESIA_INT|INFANT_SEX_INT|INFANT_ASSIST_VENTI_INT|INFANT_ASSIST_VENTI_6HRS_INT|INFANT_NICU_ADMISSION_INT|INFANT_SURFACANT_INT|INFANT_ANTIBIOTICS_INT|INFANT_SEIZURES_INT|INFANT_ANCEPHALY_INT|INFANT_MENINGOMYELOCELE_INT|INFANT_LIMB_REDUCTION_INT|INFANT_DOWN_SYNDROME_INT|INFANT_SUSPECTED_CHROMOSOMAL_DISORDER_INT|INFANT_BREASTFED_INT|\n",
      "+----------------------+----------+-----------+-----------+----------------+-----------------+----------------+-------------------+----------------+--------------------+----------+---------+---------+---------+----------------+-----------------+-----------------+----------------------+------------------+------------+-------------+------------+-------------+------------------+-------+----------------------+---------+----------+--------+-----------+----------+------------------------+---------------+-------+--------------+--------+---------------+----------+-------------------------+-------------------+-------------------+------------------------+---------------------+----------------+------------------+---------------+-----------------------+----------------+-----------------------+---------------------+--------------------+-------------------------------------+--------------------------------------+----------------+--------------------------+----------------+-----------------+----------------+-----------------+----------------------+-------------+--------------+------------+---------------+--------------+--------------+-----------------------+----------------------------+-------------------------+--------------------+----------------------+-------------------+--------------------+---------------------------+-------------------------+------------------------+-----------------------------------------+--------------------+\n",
      "|                     N|      2015|          3|          1|              23|                1|               3|                 99|               9|                   1|         0|        0|        0|        0|              66|                3|              166|                   183|                17|           N|            N|           N|            N|                 N|      1|                     1|        N|         N|       N|          N|         N|                       1|              1|     99|             5|      99|              5|         M|                       22|                546|                  N|                       N|                    N|               N|                 N|              N|                      1|               N|                      N|                    N|                   N|                                    N|                                     1|               U|                       1.0|             0.0|              0.0|             0.0|              0.0|                   0.0|          0.0|           0.0|         0.0|            0.0|           1.0|           0.0|                    0.0|                         0.0|                      0.0|                 0.0|                   0.0|                0.0|                 0.0|                        0.0|                      0.0|                     0.0|                                      0.0|                 2.0|\n",
      "|                     N|      2015|          4|          1|              37|                2|               3|                 52|               3|                   1|         0|        0|        0|        0|              65|                5|              215|                   230|                15|           N|            N|           N|            N|                 N|      1|                     1|        N|         N|       N|          N|         Y|                       1|              1|      3|             1|       3|              1|         M|                       20|                312|                  N|                       N|                    N|               N|                 N|              N|                      1|               N|                      N|                    N|                   N|                                    N|                                     1|               N|                       1.0|             0.0|              0.0|             0.0|              0.0|                   0.0|          0.0|           0.0|         0.0|            0.0|           0.0|           0.0|                    0.0|                         0.0|                      0.0|                 0.0|                   0.0|                0.0|                 0.0|                        0.0|                      0.0|                     0.0|                                      0.0|                 0.0|\n",
      "|                     N|      2015|          9|          1|              33|                1|               2|                 39|               2|                   1|        10|       10|        0|        0|              66|                4|              188|                   270|                82|           N|            N|           N|            N|                 N|      1|                     1|        N|         N|       N|          N|         N|                       1|              1|      2|             1|       2|              1|         F|                       21|                397|                  N|                       N|                    N|               N|                 N|              N|                      1|               N|                      N|                    N|                   N|                                    N|                                     1|               N|                       1.0|             0.0|              0.0|             0.0|              0.0|                   0.0|          0.0|           0.0|         0.0|            0.0|           1.0|           1.0|                    0.0|                         0.0|                      0.0|                 0.0|                   0.0|                0.0|                 0.0|                        0.0|                      0.0|                     0.0|                                      0.0|                 0.0|\n",
      "|                     N|      2015|          6|          1|              35|                4|               9|                 37|               6|                   1|         0|        0|        0|        0|              66|                5|              226|                   228|                 2|           N|            Y|           N|            N|                 N|      0|                     1|        N|         N|       N|          N|         N|                       2|              1|      3|             1|       7|              3|         M|                       24|                730|                  Y|                       N|                    Y|               N|                 N|              N|                      0|               N|                      N|                    N|                   N|                                    N|                                     1|               U|                       1.0|             0.0|              1.0|             0.0|              0.0|                   0.0|          0.0|           0.0|         0.0|            0.0|           1.0|           0.0|                    1.0|                         0.0|                      1.0|                 0.0|                   0.0|                0.0|                 0.0|                        0.0|                      0.0|                     0.0|                                      0.0|                 2.0|\n",
      "|                     N|      2015|         10|          1|              33|                1|               4|                 34|               6|                   1|         0|        0|        0|        0|              67|                2|              156|                   189|                33|           N|            N|           N|            N|                 N|      0|                     1|        Y|         N|       N|          N|         Y|                       1|              1|      0|             1|       0|              1|         M|                       21|                510|                  N|                       N|                    N|               N|                 N|              N|                      1|               N|                      N|                    N|                   N|                                    N|                                     1|               N|                       1.0|             0.0|              0.0|             0.0|              0.0|                   0.0|          1.0|           0.0|         0.0|            0.0|           0.0|           0.0|                    0.0|                         0.0|                      0.0|                 0.0|                   0.0|                0.0|                 0.0|                        0.0|                      0.0|                     0.0|                                      0.0|                 0.0|\n",
      "|                     N|      2015|         12|          1|              32|                4|               8|                 34|               8|                   1|         0|        0|        0|        0|              63|                1|              103|                   112|                 9|           N|            N|           N|            N|                 N|      1|                     1|        N|         N|       Y|          N|         N|                       2|              1|      0|             1|       1|              1|         M|                       25|                449|                  N|                       N|                    Y|               N|                 N|              N|                      0|               N|                      N|                    N|                   N|                                    N|                                     1|               N|                       1.0|             0.0|              0.0|             0.0|              0.0|                   0.0|          0.0|           0.0|         1.0|            0.0|           1.0|           0.0|                    0.0|                         0.0|                      1.0|                 0.0|                   0.0|                0.0|                 0.0|                        0.0|                      0.0|                     0.0|                                      0.0|                 0.0|\n",
      "|                     N|      2015|         12|          1|              40|                2|               4|                 99|               9|                   4|         0|        0|        0|        0|              70|                4|              215|                   234|                19|           N|            N|           N|            N|                 N|      1|                     1|        N|         N|       N|          N|         N|                       1|              1|      1|             1|       1|              1|         F|                       21|                350|                  N|                       N|                    N|               N|                 N|              N|                      1|               N|                      N|                    N|                   N|                                    N|                                     1|               N|                       1.0|             0.0|              0.0|             0.0|              0.0|                   0.0|          0.0|           0.0|         0.0|            0.0|           1.0|           1.0|                    0.0|                         0.0|                      0.0|                 0.0|                   0.0|                0.0|                 0.0|                        0.0|                      0.0|                     0.0|                                      0.0|                 0.0|\n",
      "|                     N|      2015|          1|          1|              26|                1|               4|                 99|               9|                   5|         0|        0|        0|        0|              99|                9|              999|                   999|                99|           N|            N|           N|            N|                 N|      1|                     1|        N|         N|       N|          N|         N|                       1|              1|      2|             1|       1|              1|         M|                       19|                283|                  N|                       N|                    N|               N|                 N|              N|                      1|               N|                      N|                    N|                   N|                                    N|                                     1|               N|                       1.0|             0.0|              0.0|             0.0|              0.0|                   0.0|          0.0|           0.0|         0.0|            0.0|           1.0|           0.0|                    0.0|                         0.0|                      0.0|                 0.0|                   0.0|                0.0|                 0.0|                        0.0|                      0.0|                     0.0|                                      0.0|                 0.0|\n",
      "|                     N|      2015|          9|          1|              22|                1|               6|                 32|               6|                   1|         0|        0|        0|        0|              63|                5|              220|                   223|                 3|           N|            N|           N|            N|                 N|      0|                     1|        N|         N|       N|          N|         Y|                       1|              1|      1|             1|       1|              1|         F|                       32|               1119|                  N|                       N|                    N|               N|                 N|              N|                      1|               Y|                      N|                    N|                   N|                                    N|                                     0|               U|                       1.0|             0.0|              0.0|             0.0|              0.0|                   0.0|          0.0|           0.0|         0.0|            0.0|           0.0|           1.0|                    0.0|                         0.0|                      0.0|                 0.0|                   0.0|                0.0|                 2.0|                        0.0|                      0.0|                     0.0|                                      0.0|                 2.0|\n",
      "|                     N|      2015|          4|          1|              37|                1|               6|                 37|               6|                   1|         0|        0|        0|        0|              66|                2|              127|                   152|                25|           N|            N|           N|            N|                 N|      1|                     1|        N|         Y|       N|          N|         Y|                       1|              1|      1|             1|       1|              1|         F|                       36|               2020|                  N|                       N|                    N|               N|                 N|              N|                      1|               N|                      N|                    N|                   N|                                    N|                                     1|               N|                       1.0|             0.0|              0.0|             0.0|              0.0|                   0.0|          0.0|           1.0|         0.0|            0.0|           0.0|           1.0|                    0.0|                         0.0|                      0.0|                 0.0|                   0.0|                0.0|                 0.0|                        0.0|                      0.0|                     0.0|                                      0.0|                 0.0|\n",
      "+----------------------+----------+-----------+-----------+----------------+-----------------+----------------+-------------------+----------------+--------------------+----------+---------+---------+---------+----------------+-----------------+-----------------+----------------------+------------------+------------+-------------+------------+-------------+------------------+-------+----------------------+---------+----------+--------+-----------+----------+------------------------+---------------+-------+--------------+--------+---------------+----------+-------------------------+-------------------+-------------------+------------------------+---------------------+----------------+------------------+---------------+-----------------------+----------------+-----------------------+---------------------+--------------------+-------------------------------------+--------------------------------------+----------------+--------------------------+----------------+-----------------+----------------+-----------------+----------------------+-------------+--------------+------------+---------------+--------------+--------------+-----------------------+----------------------------+-------------------------+--------------------+----------------------+-------------------+--------------------+---------------------------+-------------------------+------------------------+-----------------------------------------+--------------------+\n",
      "only showing top 10 rows\n",
      "\n"
     ]
    }
   ],
   "source": [
    "births_typed.show(10)"
   ]
  },
  {
   "cell_type": "code",
   "execution_count": 41,
   "metadata": {},
   "outputs": [],
   "source": [
    "births_coded = births_typed"
   ]
  },
  {
   "cell_type": "code",
   "execution_count": 42,
   "metadata": {},
   "outputs": [],
   "source": [
    "OHT_cols = [f'{col}_OHT' for col in string_cols][1:]\n",
    "\n",
    "# 使用one-hot编码\n",
    "encoder = ft.OneHotEncoder(inputCols=INT_cols[1:],\n",
    "                           outputCols=OHT_cols)\n",
    "\n",
    "model = encoder.fit(births_coded)\n",
    "births_coded = model.transform(births_coded)"
   ]
  },
  {
   "cell_type": "code",
   "execution_count": 43,
   "metadata": {},
   "outputs": [
    {
     "name": "stdout",
     "output_type": "stream",
     "text": [
      "+----------------------+----------+-----------+-----------+----------------+-----------------+----------------+-------------------+----------------+--------------------+----------+---------+---------+---------+----------------+-----------------+-----------------+----------------------+------------------+------------+-------------+------------+-------------+------------------+-------+----------------------+---------+----------+--------+-----------+----------+------------------------+---------------+-------+--------------+--------+---------------+----------+-------------------------+-------------------+-------------------+------------------------+---------------------+----------------+------------------+---------------+-----------------------+----------------+-----------------------+---------------------+--------------------+-------------------------------------+--------------------------------------+----------------+--------------------------+----------------+-----------------+----------------+-----------------+----------------------+-------------+--------------+------------+---------------+--------------+--------------+-----------------------+----------------------------+-------------------------+--------------------+----------------------+-------------------+--------------------+---------------------------+-------------------------+------------------------+-----------------------------------------+--------------------+----------------+-----------------+----------------+-----------------+----------------------+-------------+--------------+-------------+---------------+--------------+--------------+-----------------------+----------------------------+-------------------------+--------------------+----------------------+-------------------+--------------------+---------------------------+-------------------------+------------------------+-----------------------------------------+--------------------+\n",
      "|INFANT_ALIVE_AT_REPORT|BIRTH_YEAR|BIRTH_MONTH|BIRTH_PLACE|MOTHER_AGE_YEARS|MOTHER_RACE_6CODE|MOTHER_EDUCATION|FATHER_COMBINED_AGE|FATHER_EDUCATION|MONTH_PRECARE_RECODE|CIG_BEFORE|CIG_1_TRI|CIG_2_TRI|CIG_3_TRI|MOTHER_HEIGHT_IN|MOTHER_BMI_RECODE|MOTHER_PRE_WEIGHT|MOTHER_DELIVERY_WEIGHT|MOTHER_WEIGHT_GAIN|DIABETES_PRE|DIABETES_GEST|HYP_TENS_PRE|HYP_TENS_GEST|PREV_BIRTH_PRETERM|NO_RISK|NO_INFECTIONS_REPORTED|LABOR_IND|LABOR_AUGM|STEROIDS|ANTIBIOTICS|ANESTHESIA|DELIV_METHOD_RECODE_COMB|ATTENDANT_BIRTH|APGAR_5|APGAR_5_RECODE|APGAR_10|APGAR_10_RECODE|INFANT_SEX|OBSTETRIC_GESTATION_WEEKS|INFANT_WEIGHT_GRAMS|INFANT_ASSIST_VENTI|INFANT_ASSIST_VENTI_6HRS|INFANT_NICU_ADMISSION|INFANT_SURFACANT|INFANT_ANTIBIOTICS|INFANT_SEIZURES|INFANT_NO_ABNORMALITIES|INFANT_ANCEPHALY|INFANT_MENINGOMYELOCELE|INFANT_LIMB_REDUCTION|INFANT_DOWN_SYNDROME|INFANT_SUSPECTED_CHROMOSOMAL_DISORDER|INFANT_NO_CONGENITAL_ANOMALIES_CHECKED|INFANT_BREASTFED|INFANT_ALIVE_AT_REPORT_INT|DIABETES_PRE_INT|DIABETES_GEST_INT|HYP_TENS_PRE_INT|HYP_TENS_GEST_INT|PREV_BIRTH_PRETERM_INT|LABOR_IND_INT|LABOR_AUGM_INT|STEROIDS_INT|ANTIBIOTICS_INT|ANESTHESIA_INT|INFANT_SEX_INT|INFANT_ASSIST_VENTI_INT|INFANT_ASSIST_VENTI_6HRS_INT|INFANT_NICU_ADMISSION_INT|INFANT_SURFACANT_INT|INFANT_ANTIBIOTICS_INT|INFANT_SEIZURES_INT|INFANT_ANCEPHALY_INT|INFANT_MENINGOMYELOCELE_INT|INFANT_LIMB_REDUCTION_INT|INFANT_DOWN_SYNDROME_INT|INFANT_SUSPECTED_CHROMOSOMAL_DISORDER_INT|INFANT_BREASTFED_INT|DIABETES_PRE_OHT|DIABETES_GEST_OHT|HYP_TENS_PRE_OHT|HYP_TENS_GEST_OHT|PREV_BIRTH_PRETERM_OHT|LABOR_IND_OHT|LABOR_AUGM_OHT| STEROIDS_OHT|ANTIBIOTICS_OHT|ANESTHESIA_OHT|INFANT_SEX_OHT|INFANT_ASSIST_VENTI_OHT|INFANT_ASSIST_VENTI_6HRS_OHT|INFANT_NICU_ADMISSION_OHT|INFANT_SURFACANT_OHT|INFANT_ANTIBIOTICS_OHT|INFANT_SEIZURES_OHT|INFANT_ANCEPHALY_OHT|INFANT_MENINGOMYELOCELE_OHT|INFANT_LIMB_REDUCTION_OHT|INFANT_DOWN_SYNDROME_OHT|INFANT_SUSPECTED_CHROMOSOMAL_DISORDER_OHT|INFANT_BREASTFED_OHT|\n",
      "+----------------------+----------+-----------+-----------+----------------+-----------------+----------------+-------------------+----------------+--------------------+----------+---------+---------+---------+----------------+-----------------+-----------------+----------------------+------------------+------------+-------------+------------+-------------+------------------+-------+----------------------+---------+----------+--------+-----------+----------+------------------------+---------------+-------+--------------+--------+---------------+----------+-------------------------+-------------------+-------------------+------------------------+---------------------+----------------+------------------+---------------+-----------------------+----------------+-----------------------+---------------------+--------------------+-------------------------------------+--------------------------------------+----------------+--------------------------+----------------+-----------------+----------------+-----------------+----------------------+-------------+--------------+------------+---------------+--------------+--------------+-----------------------+----------------------------+-------------------------+--------------------+----------------------+-------------------+--------------------+---------------------------+-------------------------+------------------------+-----------------------------------------+--------------------+----------------+-----------------+----------------+-----------------+----------------------+-------------+--------------+-------------+---------------+--------------+--------------+-----------------------+----------------------------+-------------------------+--------------------+----------------------+-------------------+--------------------+---------------------------+-------------------------+------------------------+-----------------------------------------+--------------------+\n",
      "|                     N|      2015|          3|          1|              23|                1|               3|                 99|               9|                   1|         0|        0|        0|        0|              66|                3|              166|                   183|                17|           N|            N|           N|            N|                 N|      1|                     1|        N|         N|       N|          N|         N|                       1|              1|     99|             5|      99|              5|         M|                       22|                546|                  N|                       N|                    N|               N|                 N|              N|                      1|               N|                      N|                    N|                   N|                                    N|                                     1|               U|                       1.0|             0.0|              0.0|             0.0|              0.0|                   0.0|          0.0|           0.0|         0.0|            0.0|           1.0|           0.0|                    0.0|                         0.0|                      0.0|                 0.0|                   0.0|                0.0|                 0.0|                        0.0|                      0.0|                     0.0|                                      0.0|                 2.0|   (2,[0],[1.0])|    (2,[0],[1.0])|   (2,[0],[1.0])|    (2,[0],[1.0])|         (2,[0],[1.0])|(2,[0],[1.0])| (2,[0],[1.0])|(2,[0],[1.0])|  (2,[0],[1.0])| (2,[1],[1.0])| (1,[0],[1.0])|          (2,[0],[1.0])|               (2,[0],[1.0])|            (2,[0],[1.0])|       (2,[0],[1.0])|         (2,[0],[1.0])|      (2,[0],[1.0])|       (2,[0],[1.0])|              (2,[0],[1.0])|            (2,[0],[1.0])|           (3,[0],[1.0])|                            (3,[0],[1.0])|           (2,[],[])|\n",
      "|                     N|      2015|          4|          1|              37|                2|               3|                 52|               3|                   1|         0|        0|        0|        0|              65|                5|              215|                   230|                15|           N|            N|           N|            N|                 N|      1|                     1|        N|         N|       N|          N|         Y|                       1|              1|      3|             1|       3|              1|         M|                       20|                312|                  N|                       N|                    N|               N|                 N|              N|                      1|               N|                      N|                    N|                   N|                                    N|                                     1|               N|                       1.0|             0.0|              0.0|             0.0|              0.0|                   0.0|          0.0|           0.0|         0.0|            0.0|           0.0|           0.0|                    0.0|                         0.0|                      0.0|                 0.0|                   0.0|                0.0|                 0.0|                        0.0|                      0.0|                     0.0|                                      0.0|                 0.0|   (2,[0],[1.0])|    (2,[0],[1.0])|   (2,[0],[1.0])|    (2,[0],[1.0])|         (2,[0],[1.0])|(2,[0],[1.0])| (2,[0],[1.0])|(2,[0],[1.0])|  (2,[0],[1.0])| (2,[0],[1.0])| (1,[0],[1.0])|          (2,[0],[1.0])|               (2,[0],[1.0])|            (2,[0],[1.0])|       (2,[0],[1.0])|         (2,[0],[1.0])|      (2,[0],[1.0])|       (2,[0],[1.0])|              (2,[0],[1.0])|            (2,[0],[1.0])|           (3,[0],[1.0])|                            (3,[0],[1.0])|       (2,[0],[1.0])|\n",
      "|                     N|      2015|          9|          1|              33|                1|               2|                 39|               2|                   1|        10|       10|        0|        0|              66|                4|              188|                   270|                82|           N|            N|           N|            N|                 N|      1|                     1|        N|         N|       N|          N|         N|                       1|              1|      2|             1|       2|              1|         F|                       21|                397|                  N|                       N|                    N|               N|                 N|              N|                      1|               N|                      N|                    N|                   N|                                    N|                                     1|               N|                       1.0|             0.0|              0.0|             0.0|              0.0|                   0.0|          0.0|           0.0|         0.0|            0.0|           1.0|           1.0|                    0.0|                         0.0|                      0.0|                 0.0|                   0.0|                0.0|                 0.0|                        0.0|                      0.0|                     0.0|                                      0.0|                 0.0|   (2,[0],[1.0])|    (2,[0],[1.0])|   (2,[0],[1.0])|    (2,[0],[1.0])|         (2,[0],[1.0])|(2,[0],[1.0])| (2,[0],[1.0])|(2,[0],[1.0])|  (2,[0],[1.0])| (2,[1],[1.0])|     (1,[],[])|          (2,[0],[1.0])|               (2,[0],[1.0])|            (2,[0],[1.0])|       (2,[0],[1.0])|         (2,[0],[1.0])|      (2,[0],[1.0])|       (2,[0],[1.0])|              (2,[0],[1.0])|            (2,[0],[1.0])|           (3,[0],[1.0])|                            (3,[0],[1.0])|       (2,[0],[1.0])|\n",
      "|                     N|      2015|          6|          1|              35|                4|               9|                 37|               6|                   1|         0|        0|        0|        0|              66|                5|              226|                   228|                 2|           N|            Y|           N|            N|                 N|      0|                     1|        N|         N|       N|          N|         N|                       2|              1|      3|             1|       7|              3|         M|                       24|                730|                  Y|                       N|                    Y|               N|                 N|              N|                      0|               N|                      N|                    N|                   N|                                    N|                                     1|               U|                       1.0|             0.0|              1.0|             0.0|              0.0|                   0.0|          0.0|           0.0|         0.0|            0.0|           1.0|           0.0|                    1.0|                         0.0|                      1.0|                 0.0|                   0.0|                0.0|                 0.0|                        0.0|                      0.0|                     0.0|                                      0.0|                 2.0|   (2,[0],[1.0])|    (2,[1],[1.0])|   (2,[0],[1.0])|    (2,[0],[1.0])|         (2,[0],[1.0])|(2,[0],[1.0])| (2,[0],[1.0])|(2,[0],[1.0])|  (2,[0],[1.0])| (2,[1],[1.0])| (1,[0],[1.0])|          (2,[1],[1.0])|               (2,[0],[1.0])|            (2,[1],[1.0])|       (2,[0],[1.0])|         (2,[0],[1.0])|      (2,[0],[1.0])|       (2,[0],[1.0])|              (2,[0],[1.0])|            (2,[0],[1.0])|           (3,[0],[1.0])|                            (3,[0],[1.0])|           (2,[],[])|\n",
      "|                     N|      2015|         10|          1|              33|                1|               4|                 34|               6|                   1|         0|        0|        0|        0|              67|                2|              156|                   189|                33|           N|            N|           N|            N|                 N|      0|                     1|        Y|         N|       N|          N|         Y|                       1|              1|      0|             1|       0|              1|         M|                       21|                510|                  N|                       N|                    N|               N|                 N|              N|                      1|               N|                      N|                    N|                   N|                                    N|                                     1|               N|                       1.0|             0.0|              0.0|             0.0|              0.0|                   0.0|          1.0|           0.0|         0.0|            0.0|           0.0|           0.0|                    0.0|                         0.0|                      0.0|                 0.0|                   0.0|                0.0|                 0.0|                        0.0|                      0.0|                     0.0|                                      0.0|                 0.0|   (2,[0],[1.0])|    (2,[0],[1.0])|   (2,[0],[1.0])|    (2,[0],[1.0])|         (2,[0],[1.0])|(2,[1],[1.0])| (2,[0],[1.0])|(2,[0],[1.0])|  (2,[0],[1.0])| (2,[0],[1.0])| (1,[0],[1.0])|          (2,[0],[1.0])|               (2,[0],[1.0])|            (2,[0],[1.0])|       (2,[0],[1.0])|         (2,[0],[1.0])|      (2,[0],[1.0])|       (2,[0],[1.0])|              (2,[0],[1.0])|            (2,[0],[1.0])|           (3,[0],[1.0])|                            (3,[0],[1.0])|       (2,[0],[1.0])|\n",
      "|                     N|      2015|         12|          1|              32|                4|               8|                 34|               8|                   1|         0|        0|        0|        0|              63|                1|              103|                   112|                 9|           N|            N|           N|            N|                 N|      1|                     1|        N|         N|       Y|          N|         N|                       2|              1|      0|             1|       1|              1|         M|                       25|                449|                  N|                       N|                    Y|               N|                 N|              N|                      0|               N|                      N|                    N|                   N|                                    N|                                     1|               N|                       1.0|             0.0|              0.0|             0.0|              0.0|                   0.0|          0.0|           0.0|         1.0|            0.0|           1.0|           0.0|                    0.0|                         0.0|                      1.0|                 0.0|                   0.0|                0.0|                 0.0|                        0.0|                      0.0|                     0.0|                                      0.0|                 0.0|   (2,[0],[1.0])|    (2,[0],[1.0])|   (2,[0],[1.0])|    (2,[0],[1.0])|         (2,[0],[1.0])|(2,[0],[1.0])| (2,[0],[1.0])|(2,[1],[1.0])|  (2,[0],[1.0])| (2,[1],[1.0])| (1,[0],[1.0])|          (2,[0],[1.0])|               (2,[0],[1.0])|            (2,[1],[1.0])|       (2,[0],[1.0])|         (2,[0],[1.0])|      (2,[0],[1.0])|       (2,[0],[1.0])|              (2,[0],[1.0])|            (2,[0],[1.0])|           (3,[0],[1.0])|                            (3,[0],[1.0])|       (2,[0],[1.0])|\n",
      "|                     N|      2015|         12|          1|              40|                2|               4|                 99|               9|                   4|         0|        0|        0|        0|              70|                4|              215|                   234|                19|           N|            N|           N|            N|                 N|      1|                     1|        N|         N|       N|          N|         N|                       1|              1|      1|             1|       1|              1|         F|                       21|                350|                  N|                       N|                    N|               N|                 N|              N|                      1|               N|                      N|                    N|                   N|                                    N|                                     1|               N|                       1.0|             0.0|              0.0|             0.0|              0.0|                   0.0|          0.0|           0.0|         0.0|            0.0|           1.0|           1.0|                    0.0|                         0.0|                      0.0|                 0.0|                   0.0|                0.0|                 0.0|                        0.0|                      0.0|                     0.0|                                      0.0|                 0.0|   (2,[0],[1.0])|    (2,[0],[1.0])|   (2,[0],[1.0])|    (2,[0],[1.0])|         (2,[0],[1.0])|(2,[0],[1.0])| (2,[0],[1.0])|(2,[0],[1.0])|  (2,[0],[1.0])| (2,[1],[1.0])|     (1,[],[])|          (2,[0],[1.0])|               (2,[0],[1.0])|            (2,[0],[1.0])|       (2,[0],[1.0])|         (2,[0],[1.0])|      (2,[0],[1.0])|       (2,[0],[1.0])|              (2,[0],[1.0])|            (2,[0],[1.0])|           (3,[0],[1.0])|                            (3,[0],[1.0])|       (2,[0],[1.0])|\n",
      "|                     N|      2015|          1|          1|              26|                1|               4|                 99|               9|                   5|         0|        0|        0|        0|              99|                9|              999|                   999|                99|           N|            N|           N|            N|                 N|      1|                     1|        N|         N|       N|          N|         N|                       1|              1|      2|             1|       1|              1|         M|                       19|                283|                  N|                       N|                    N|               N|                 N|              N|                      1|               N|                      N|                    N|                   N|                                    N|                                     1|               N|                       1.0|             0.0|              0.0|             0.0|              0.0|                   0.0|          0.0|           0.0|         0.0|            0.0|           1.0|           0.0|                    0.0|                         0.0|                      0.0|                 0.0|                   0.0|                0.0|                 0.0|                        0.0|                      0.0|                     0.0|                                      0.0|                 0.0|   (2,[0],[1.0])|    (2,[0],[1.0])|   (2,[0],[1.0])|    (2,[0],[1.0])|         (2,[0],[1.0])|(2,[0],[1.0])| (2,[0],[1.0])|(2,[0],[1.0])|  (2,[0],[1.0])| (2,[1],[1.0])| (1,[0],[1.0])|          (2,[0],[1.0])|               (2,[0],[1.0])|            (2,[0],[1.0])|       (2,[0],[1.0])|         (2,[0],[1.0])|      (2,[0],[1.0])|       (2,[0],[1.0])|              (2,[0],[1.0])|            (2,[0],[1.0])|           (3,[0],[1.0])|                            (3,[0],[1.0])|       (2,[0],[1.0])|\n",
      "|                     N|      2015|          9|          1|              22|                1|               6|                 32|               6|                   1|         0|        0|        0|        0|              63|                5|              220|                   223|                 3|           N|            N|           N|            N|                 N|      0|                     1|        N|         N|       N|          N|         Y|                       1|              1|      1|             1|       1|              1|         F|                       32|               1119|                  N|                       N|                    N|               N|                 N|              N|                      1|               Y|                      N|                    N|                   N|                                    N|                                     0|               U|                       1.0|             0.0|              0.0|             0.0|              0.0|                   0.0|          0.0|           0.0|         0.0|            0.0|           0.0|           1.0|                    0.0|                         0.0|                      0.0|                 0.0|                   0.0|                0.0|                 2.0|                        0.0|                      0.0|                     0.0|                                      0.0|                 2.0|   (2,[0],[1.0])|    (2,[0],[1.0])|   (2,[0],[1.0])|    (2,[0],[1.0])|         (2,[0],[1.0])|(2,[0],[1.0])| (2,[0],[1.0])|(2,[0],[1.0])|  (2,[0],[1.0])| (2,[0],[1.0])|     (1,[],[])|          (2,[0],[1.0])|               (2,[0],[1.0])|            (2,[0],[1.0])|       (2,[0],[1.0])|         (2,[0],[1.0])|      (2,[0],[1.0])|           (2,[],[])|              (2,[0],[1.0])|            (2,[0],[1.0])|           (3,[0],[1.0])|                            (3,[0],[1.0])|           (2,[],[])|\n",
      "|                     N|      2015|          4|          1|              37|                1|               6|                 37|               6|                   1|         0|        0|        0|        0|              66|                2|              127|                   152|                25|           N|            N|           N|            N|                 N|      1|                     1|        N|         Y|       N|          N|         Y|                       1|              1|      1|             1|       1|              1|         F|                       36|               2020|                  N|                       N|                    N|               N|                 N|              N|                      1|               N|                      N|                    N|                   N|                                    N|                                     1|               N|                       1.0|             0.0|              0.0|             0.0|              0.0|                   0.0|          0.0|           1.0|         0.0|            0.0|           0.0|           1.0|                    0.0|                         0.0|                      0.0|                 0.0|                   0.0|                0.0|                 0.0|                        0.0|                      0.0|                     0.0|                                      0.0|                 0.0|   (2,[0],[1.0])|    (2,[0],[1.0])|   (2,[0],[1.0])|    (2,[0],[1.0])|         (2,[0],[1.0])|(2,[0],[1.0])| (2,[1],[1.0])|(2,[0],[1.0])|  (2,[0],[1.0])| (2,[0],[1.0])|     (1,[],[])|          (2,[0],[1.0])|               (2,[0],[1.0])|            (2,[0],[1.0])|       (2,[0],[1.0])|         (2,[0],[1.0])|      (2,[0],[1.0])|       (2,[0],[1.0])|              (2,[0],[1.0])|            (2,[0],[1.0])|           (3,[0],[1.0])|                            (3,[0],[1.0])|       (2,[0],[1.0])|\n",
      "+----------------------+----------+-----------+-----------+----------------+-----------------+----------------+-------------------+----------------+--------------------+----------+---------+---------+---------+----------------+-----------------+-----------------+----------------------+------------------+------------+-------------+------------+-------------+------------------+-------+----------------------+---------+----------+--------+-----------+----------+------------------------+---------------+-------+--------------+--------+---------------+----------+-------------------------+-------------------+-------------------+------------------------+---------------------+----------------+------------------+---------------+-----------------------+----------------+-----------------------+---------------------+--------------------+-------------------------------------+--------------------------------------+----------------+--------------------------+----------------+-----------------+----------------+-----------------+----------------------+-------------+--------------+------------+---------------+--------------+--------------+-----------------------+----------------------------+-------------------------+--------------------+----------------------+-------------------+--------------------+---------------------------+-------------------------+------------------------+-----------------------------------------+--------------------+----------------+-----------------+----------------+-----------------+----------------------+-------------+--------------+-------------+---------------+--------------+--------------+-----------------------+----------------------------+-------------------------+--------------------+----------------------+-------------------+--------------------+---------------------------+-------------------------+------------------------+-----------------------------------------+--------------------+\n",
      "only showing top 10 rows\n",
      "\n"
     ]
    }
   ],
   "source": [
    "births_coded.show(10)"
   ]
  },
  {
   "cell_type": "code",
   "execution_count": 47,
   "metadata": {},
   "outputs": [],
   "source": [
    "# 筛选\n",
    "\n",
    "select_cols = ['FATHER_COMBINED_AGE', 'FATHER_EDUCATION', 'MONTH_PRECARE_RECODE', 'CIG_BEFORE', 'CIG_1_TRI', 'CIG_2_TRI', 'CIG_3_TRI', 'MOTHER_HEIGHT_IN', 'MOTHER_BMI_RECODE', 'MOTHER_PRE_WEIGHT', 'MOTHER_DELIVERY_WEIGHT', 'MOTHER_WEIGHT_GAIN', 'DIABETES_PRE', 'DIABETES_GEST', 'PREV_BIRTH_PRETERM', 'NO_INFECTIONS_REPORTED', 'LABOR_IND', 'LABOR_AUGM', 'STEROIDS', 'ANESTHESIA', 'APGAR_5_RECODE', 'APGAR_10', 'APGAR_10_RECODE', 'OBSTETRIC_GESTATION_WEEKS', 'INFANT_WEIGHT_GRAMS', 'INFANT_ASSIST_VENTI', 'INFANT_ASSIST_VENTI_6HRS', 'INFANT_NICU_ADMISSION', 'INFANT_SURFACANT', 'INFANT_ANTIBIOTICS', 'INFANT_SEIZURES', 'INFANT_NO_ABNORMALITIES', 'INFANT_ANCEPHALY', 'INFANT_MENINGOMYELOCELE', 'INFANT_LIMB_REDUCTION', 'INFANT_DOWN_SYNDROME', 'INFANT_SUSPECTED_CHROMOSOMAL_DISORDER', 'INFANT_BREASTFED']\n",
    "feature_cols = []\n",
    "\n",
    "for i in select_cols:\n",
    "    if i + '_OHT' in OHT_cols:\n",
    "        feature_cols.append(i + '_OHT')\n",
    "    else:\n",
    "        feature_cols.append(i)\n",
    "\n"
   ]
  },
  {
   "cell_type": "code",
   "execution_count": 50,
   "metadata": {},
   "outputs": [],
   "source": [
    "\n",
    "assembler = ft.VectorAssembler(inputCols=feature_cols, outputCol=\"features\") \n",
    "births_coded = assembler.transform(births_coded)"
   ]
  },
  {
   "cell_type": "code",
   "execution_count": 60,
   "metadata": {},
   "outputs": [],
   "source": [
    "train_data, test_data = births_coded.randomSplit([0.7, 0.3], seed=42)"
   ]
  },
  {
   "cell_type": "code",
   "execution_count": 67,
   "metadata": {},
   "outputs": [
    {
     "data": {
      "text/plain": [
       "(31978, 13451)"
      ]
     },
     "execution_count": 67,
     "metadata": {},
     "output_type": "execute_result"
    }
   ],
   "source": [
    "train_data.count(), test_data.count()"
   ]
  },
  {
   "cell_type": "code",
   "execution_count": 73,
   "metadata": {},
   "outputs": [
    {
     "name": "stdout",
     "output_type": "stream",
     "text": [
      "Logistic Regression Accuracy: 0.9687586984558473\n"
     ]
    }
   ],
   "source": [
    "# LR模型\n",
    "\n",
    "from pyspark.ml.classification import LogisticRegression\n",
    "\n",
    "lr = LogisticRegression(featuresCol = 'features', \n",
    "                        labelCol = 'INFANT_ALIVE_AT_REPORT_INT', \n",
    "                        maxIter=10)\n",
    "lrModel = lr.fit(train_data)\n",
    "lr_predictions = lrModel.transform(test_data)\n",
    "\n",
    "\n",
    "# 评估模型性能\n",
    "import pyspark.ml.evaluation as ev\n",
    "\n",
    "evaluator = ev.BinaryClassificationEvaluator(\n",
    "    rawPredictionCol='probability',\n",
    "    labelCol='INFANT_ALIVE_AT_REPORT_INT'\n",
    ")\n",
    "\n",
    "print('Logistic Regression Accuracy:', \n",
    "      evaluator.evaluate(lr_predictions))"
   ]
  },
  {
   "cell_type": "code",
   "execution_count": 74,
   "metadata": {},
   "outputs": [
    {
     "name": "stdout",
     "output_type": "stream",
     "text": [
      "Decision Tree Accuracy: 0.9499843297781263\n"
     ]
    }
   ],
   "source": [
    "# 决策树\n",
    "\n",
    "from pyspark.ml.classification import DecisionTreeClassifier\n",
    "\n",
    "dt = DecisionTreeClassifier(featuresCol = 'features', \n",
    "                        labelCol = 'INFANT_ALIVE_AT_REPORT_INT', \n",
    "                        maxDepth = 3)\n",
    "dtModel = dt.fit(train_data)\n",
    "dt_predictions = dtModel.transform(test_data)\n",
    "\n",
    "\n",
    "# 评估模型性能\n",
    "import pyspark.ml.evaluation as ev\n",
    "\n",
    "evaluator = ev.BinaryClassificationEvaluator(\n",
    "    rawPredictionCol='probability',\n",
    "    labelCol='INFANT_ALIVE_AT_REPORT_INT'\n",
    ")\n",
    "\n",
    "print('Decision Tree Accuracy:', \n",
    "      evaluator.evaluate(dt_predictions))"
   ]
  },
  {
   "cell_type": "code",
   "execution_count": 75,
   "metadata": {},
   "outputs": [
    {
     "name": "stderr",
     "output_type": "stream",
     "text": [
      "24/02/22 23:37:22 WARN DAGScheduler: Broadcasting large task binary with size 1148.6 KiB\n",
      "24/02/22 23:37:22 WARN DAGScheduler: Broadcasting large task binary with size 1515.4 KiB\n",
      "24/02/22 23:37:22 WARN DAGScheduler: Broadcasting large task binary with size 1917.3 KiB\n",
      "24/02/22 23:37:22 WARN DAGScheduler: Broadcasting large task binary with size 2.3 MiB\n",
      "24/02/22 23:37:23 WARN DAGScheduler: Broadcasting large task binary with size 1587.7 KiB\n"
     ]
    },
    {
     "name": "stdout",
     "output_type": "stream",
     "text": [
      "Random Forest Accuracy: 0.9780573408405825\n"
     ]
    }
   ],
   "source": [
    "# 随机森林\n",
    "\n",
    "from pyspark.ml.classification import RandomForestClassifier\n",
    "\n",
    "rf = RandomForestClassifier(featuresCol = 'features', \n",
    "                        labelCol = 'INFANT_ALIVE_AT_REPORT_INT', \n",
    "                        maxDepth = 3)\n",
    "rfModel = rf.fit(train_data)\n",
    "rf_predictions = rfModel.transform(test_data)\n",
    "\n",
    "\n",
    "# 评估模型性能\n",
    "import pyspark.ml.evaluation as ev\n",
    "\n",
    "evaluator = ev.BinaryClassificationEvaluator(\n",
    "    rawPredictionCol='probability',\n",
    "    labelCol='INFANT_ALIVE_AT_REPORT_INT'\n",
    ")\n",
    "\n",
    "print('Random Forest Accuracy:', \n",
    "      evaluator.evaluate(rf_predictions))"
   ]
  },
  {
   "cell_type": "code",
   "execution_count": 78,
   "metadata": {},
   "outputs": [
    {
     "name": "stdout",
     "output_type": "stream",
     "text": [
      "GBT Accuracy: 0.9784868168974962\n"
     ]
    }
   ],
   "source": [
    "# GBT\n",
    "\n",
    "from pyspark.ml.classification import GBTClassifier\n",
    "\n",
    "gbt = GBTClassifier(featuresCol = 'features', \n",
    "                        labelCol = 'INFANT_ALIVE_AT_REPORT_INT', \n",
    "                        maxDepth = 3)\n",
    "gbtModel = gbt.fit(train_data)\n",
    "gbt_predictions = gbtModel.transform(test_data)\n",
    "\n",
    "\n",
    "# 评估模型性能\n",
    "import pyspark.ml.evaluation as ev\n",
    "\n",
    "evaluator = ev.BinaryClassificationEvaluator(\n",
    "    rawPredictionCol='probability',\n",
    "    labelCol='INFANT_ALIVE_AT_REPORT_INT'\n",
    ")\n",
    "\n",
    "print('GBT Accuracy:', \n",
    "      evaluator.evaluate(gbt_predictions))"
   ]
  },
  {
   "cell_type": "code",
   "execution_count": 65,
   "metadata": {},
   "outputs": [
    {
     "name": "stdout",
     "output_type": "stream",
     "text": [
      "Logistic Regression Accuracy: 0.965200467083704\n",
      "Decision Tree Accuracy: 0.9539436002136693\n",
      "Random Forest Accuracy: 0.9727364695346413\n",
      "GBT Accuracy: 0.9760455065367686\n"
     ]
    },
    {
     "name": "stderr",
     "output_type": "stream",
     "text": [
      "                                                                                \r"
     ]
    }
   ],
   "source": [
    "# 10 3 3 3\n",
    "\n",
    "print('Logistic Regression Accuracy:', \n",
    "      evaluator.evaluate(lr_predictions))\n",
    "print('Decision Tree Accuracy:', \n",
    "      evaluator.evaluate(dt_predictions))\n",
    "print('Random Forest Accuracy:', \n",
    "      evaluator.evaluate(rf_predictions))\n",
    "print('GBT Accuracy:', \n",
    "      evaluator.evaluate(gbt_predictions))"
   ]
  },
  {
   "cell_type": "code",
   "execution_count": 72,
   "metadata": {},
   "outputs": [
    {
     "name": "stdout",
     "output_type": "stream",
     "text": [
      "Logistic Regression Accuracy: 0.9680814886060151\n",
      "Decision Tree Accuracy: 0.9674284225382271\n"
     ]
    },
    {
     "name": "stderr",
     "output_type": "stream",
     "text": [
      "                                                                                \r"
     ]
    },
    {
     "name": "stdout",
     "output_type": "stream",
     "text": [
      "Random Forest Accuracy: 0.9758431391537389\n",
      "GBT Accuracy: 0.9784867837025621\n"
     ]
    }
   ],
   "source": [
    "# 20 6 6 6\n",
    "\n",
    "print('Logistic Regression Accuracy:', \n",
    "      evaluator.evaluate(lr_predictions))\n",
    "print('Decision Tree Accuracy:', \n",
    "      evaluator.evaluate(dt_predictions))\n",
    "print('Random Forest Accuracy:', \n",
    "      evaluator.evaluate(rf_predictions))\n",
    "print('GBT Accuracy:', \n",
    "      evaluator.evaluate(gbt_predictions))"
   ]
  },
  {
   "cell_type": "code",
   "execution_count": 77,
   "metadata": {},
   "outputs": [
    {
     "name": "stdout",
     "output_type": "stream",
     "text": [
      "Logistic Regression Accuracy: 0.9687579128424078\n",
      "Decision Tree Accuracy: 0.9499843297781263\n"
     ]
    },
    {
     "name": "stderr",
     "output_type": "stream",
     "text": [
      "24/02/22 23:37:43 WARN DAGScheduler: Broadcasting large task binary with size 1587.7 KiB\n"
     ]
    },
    {
     "name": "stdout",
     "output_type": "stream",
     "text": [
      "Random Forest Accuracy: 0.9780573408405818\n"
     ]
    },
    {
     "name": "stderr",
     "output_type": "stream",
     "text": [
      "24/02/22 23:37:44 WARN DAGScheduler: Broadcasting large task binary with size 3.5 MiB\n"
     ]
    },
    {
     "name": "stdout",
     "output_type": "stream",
     "text": [
      "GBT Accuracy: 0.9679887751551758\n"
     ]
    },
    {
     "name": "stderr",
     "output_type": "stream",
     "text": [
      "                                                                                \r"
     ]
    }
   ],
   "source": [
    "# 40 12 12 12\n",
    "\n",
    "print('Logistic Regression Accuracy:', \n",
    "      evaluator.evaluate(lr_predictions))\n",
    "print('Decision Tree Accuracy:', \n",
    "      evaluator.evaluate(dt_predictions))\n",
    "print('Random Forest Accuracy:', \n",
    "      evaluator.evaluate(rf_predictions))\n",
    "print('GBT Accuracy:', \n",
    "      evaluator.evaluate(gbt_predictions))"
   ]
  },
  {
   "cell_type": "code",
   "execution_count": 87,
   "metadata": {},
   "outputs": [
    {
     "data": {
      "image/png": "[encoded data removed]",
      "text/plain": [
       "<Figure size 640x480 with 1 Axes>"
      ]
     },
     "metadata": {},
     "output_type": "display_data"
    }
   ],
   "source": [
    "import matplotlib.pyplot as plt\n",
    "\n",
    "def draw_three_linegraph(x,y1,y2,y3,y4,x_begin,x_end,y_begin,y_end):\n",
    "    # 创建折线图\n",
    "    plt.plot(x, y1, label='LR', color='green', marker='^')\n",
    "    plt.plot(x, y2, label='DT', color='orange', marker='s')\n",
    "    plt.plot(x, y3, label='RF', color='blue', marker='o')\n",
    "    plt.plot(x, y4, label='BGT', color='grey', marker='*')\n",
    "\n",
    "    # 设置图表标题和轴标签\n",
    "    plt.title('models')\n",
    "    plt.xlabel('iterations')\n",
    "    plt.ylabel('precision')\n",
    "\n",
    "    # 设置图例\n",
    "    plt.legend()\n",
    "\n",
    "    # 设置坐标轴范围\n",
    "    plt.xlim(x_begin, x_end)\n",
    "    plt.ylim(y_begin, y_end)\n",
    "\n",
    "    # 显示网格线\n",
    "    plt.grid(True)\n",
    "\n",
    "    # 保存图表为图像文件（例如PNG）\n",
    "    # plt.savefig('house_prices_plot.png')\n",
    "    # 显示图表\n",
    "    plt.show()\n",
    "\n",
    "\n",
    "# 数据\n",
    "x = [1, 2, 4]\n",
    "lr = [0.965200467083704, 0.9680814886060151, 0.9687579128424078]\n",
    "dt = [0.9539436002136693, 0.9674284225382271, 0.9499843297781263]\n",
    "rf = [0.9727364695346413, 0.9758431391537389, 0.9780573408405818]\n",
    "gbt = [0.9760455065367686, 0.9784867837025621, 0.9679887751551758]\n",
    "\n",
    "# 设置x和y的坐标轴范围\n",
    "x_begin, x_end = 0, 5\n",
    "y_begin, y_end = 0.92, 1\n",
    "draw_three_linegraph(x,lr,dt,rf,gbt,x_begin,x_end,y_begin,y_end)\n"
   ]
  },
  {
   "cell_type": "code",
   "execution_count": null,
   "metadata": {},
   "outputs": [],
   "source": [
    "lr = [0.965200467083704, 0.9680814886060151, 0.9687579128424078]\n",
    "dt = [0.9539436002136693, 0.9674284225382271, 0.9499843297781263]\n",
    "rf = [0.9727364695346413, 0.9758431391537389, 0.9780573408405818]\n",
    "gbt = [0.9760455065367686, 0.9784867837025621, 0.9679887751551758]"
   ]
  },
  {
   "cell_type": "code",
   "execution_count": null,
   "metadata": {},
   "outputs": [],
   "source": []
  }
 ],
 "metadata": {
  "kernelspec": {
   "display_name": "TBProject",
   "language": "python",
   "name": "python3"
  },
  "language_info": {
   "codemirror_mode": {
    "name": "ipython",
    "version": 3
   },
   "file_extension": ".py",
   "mimetype": "text/x-python",
   "name": "python",
   "nbconvert_exporter": "python",
   "pygments_lexer": "ipython3",
   "version": "3.11.7"
  }
 },
 "nbformat": 4,
 "nbformat_minor": 2
}
